{
 "cells": [
  {
   "cell_type": "code",
   "execution_count": 5,
   "id": "2cf4e86e",
   "metadata": {},
   "outputs": [],
   "source": [
    "import cv2\n",
    "import os\n",
    "from PIL import Image\n",
    "import numpy as np\n",
    "import tensorflow as tf\n",
    "from tensorflow import keras\n",
    "from sklearn.model_selection import train_test_split\n",
    "from keras.utils import normalize\n",
    "\n",
    "from keras.models import Sequential\n",
    "from keras.layers import Conv2D, MaxPool2D, Activation, Dropout, Flatten, Dense\n"
   ]
  },
  {
   "cell_type": "code",
   "execution_count": 24,
   "id": "d3d370cf",
   "metadata": {},
   "outputs": [],
   "source": [
    "image_directory= r\"D:\\abcdefghj\\Projects\\Covid_Detection\\Brain_Tumor\\\\\"\n",
    "no_tumor_images=os.listdir(image_directory+\"/no\")\n",
    "yes_tumor_images=os.listdir(image_directory+\"/yes\")\n",
    "dataset=[]\n",
    "label=[]\n",
    "\n",
    "# no_tumor_images\n",
    "for i, image_name in enumerate(no_tumor_images):\n",
    "    if(image_name.split('.')[1]=='jpg'):\n",
    "        image=cv2.imread(image_directory+'no//'+image_name)\n",
    "        image=Image.fromarray(image, 'RGB')\n",
    "        image=image.resize((64,64))\n",
    "        dataset.append(np.array(image))\n",
    "        label.append(0)\n",
    "        \n",
    "for i, image_name in enumerate(yes_tumor_images):\n",
    "    if(image_name.split('.')[1]=='jpg'):\n",
    "        image=cv2.imread(image_directory+'yes//'+image_name)\n",
    "        image=Image.fromarray(image, 'RGB')\n",
    "        image=image.resize((64,64))\n",
    "        dataset.append(np.array(image))\n",
    "        label.append(1)\n",
    "        \n",
    "# print(dataset)"
   ]
  },
  {
   "cell_type": "code",
   "execution_count": 29,
   "id": "8851137c",
   "metadata": {},
   "outputs": [],
   "source": [
    "dataset=np.array(dataset)\n",
    "label=np.array(label)"
   ]
  },
  {
   "cell_type": "code",
   "execution_count": 49,
   "id": "d614584f",
   "metadata": {},
   "outputs": [
    {
     "name": "stdout",
     "output_type": "stream",
     "text": [
      "(2400, 64, 64, 3)\n"
     ]
    }
   ],
   "source": [
    "x_train, x_test, y_train, y_test=train_test_split(dataset, label, test_size=0.2, random_state=0)\n",
    "\n",
    "print(x_train.shape)"
   ]
  },
  {
   "cell_type": "code",
   "execution_count": 50,
   "id": "1b861055",
   "metadata": {},
   "outputs": [],
   "source": [
    "x_train= normalize(x_train, axis=1)\n",
    "x_test= normalize(x_test, axis=1)"
   ]
  },
  {
   "cell_type": "code",
   "execution_count": 51,
   "id": "195b1c42",
   "metadata": {},
   "outputs": [],
   "source": [
    "model= Sequential()\n",
    "\n",
    "model.add(Conv2D(32,(3,3), input_shape=(64,64,3)))\n",
    "model.add(Activation('relu'))\n",
    "model.add(MaxPool2D(pool_size=(2,2)))\n",
    "\n",
    "model.add(Conv2D(32,(3,3), kernel_initializer='he_uniform'))\n",
    "model.add(Activation('relu'))\n",
    "model.add(MaxPool2D(pool_size=(2,2)))\n",
    "\n",
    "model.add(Conv2D(32,(3,3), kernel_initializer='he_uniform'))\n",
    "model.add(Activation('relu'))\n",
    "model.add(MaxPool2D(pool_size=(2,2)))\n",
    "\n",
    "model.add(Flatten())\n",
    "model.add(Dense(64))\n",
    "model.add(Activation('relu'))\n",
    "model.add(Dropout(0.5))\n",
    "model.add(Dense(1))\n",
    "model.add(Activation('sigmoid'))"
   ]
  },
  {
   "cell_type": "code",
   "execution_count": 52,
   "id": "541117cc",
   "metadata": {},
   "outputs": [],
   "source": [
    "model.compile(loss='binary_crossentropy', optimizer='adam', metrics=['accuracy'])"
   ]
  },
  {
   "cell_type": "code",
   "execution_count": 53,
   "id": "43839514",
   "metadata": {},
   "outputs": [
    {
     "name": "stdout",
     "output_type": "stream",
     "text": [
      "Epoch 1/10\n",
      "150/150 [==============================] - 6s 38ms/step - loss: 0.5463 - accuracy: 0.7179 - val_loss: 0.4277 - val_accuracy: 0.8067\n",
      "Epoch 2/10\n",
      "150/150 [==============================] - 6s 38ms/step - loss: 0.3965 - accuracy: 0.8317 - val_loss: 0.3699 - val_accuracy: 0.8383\n",
      "Epoch 3/10\n",
      "150/150 [==============================] - 5s 35ms/step - loss: 0.3143 - accuracy: 0.8712 - val_loss: 0.2857 - val_accuracy: 0.8617\n",
      "Epoch 4/10\n",
      "150/150 [==============================] - 6s 37ms/step - loss: 0.2531 - accuracy: 0.9004 - val_loss: 0.2456 - val_accuracy: 0.9000\n",
      "Epoch 5/10\n",
      "150/150 [==============================] - 5s 36ms/step - loss: 0.1820 - accuracy: 0.9367 - val_loss: 0.1642 - val_accuracy: 0.9450\n",
      "Epoch 6/10\n",
      "150/150 [==============================] - 5s 35ms/step - loss: 0.1307 - accuracy: 0.9600 - val_loss: 0.1257 - val_accuracy: 0.9567\n",
      "Epoch 7/10\n",
      "150/150 [==============================] - 6s 37ms/step - loss: 0.0895 - accuracy: 0.9704 - val_loss: 0.1188 - val_accuracy: 0.9600\n",
      "Epoch 8/10\n",
      "150/150 [==============================] - 5s 36ms/step - loss: 0.0615 - accuracy: 0.9842 - val_loss: 0.1005 - val_accuracy: 0.9683\n",
      "Epoch 9/10\n",
      "150/150 [==============================] - 6s 40ms/step - loss: 0.0486 - accuracy: 0.9846 - val_loss: 0.0984 - val_accuracy: 0.9633\n",
      "Epoch 10/10\n",
      "150/150 [==============================] - 5s 35ms/step - loss: 0.0265 - accuracy: 0.9921 - val_loss: 0.0978 - val_accuracy: 0.9733\n"
     ]
    },
    {
     "data": {
      "text/plain": [
       "<keras.callbacks.History at 0x1cb18ea70a0>"
      ]
     },
     "execution_count": 53,
     "metadata": {},
     "output_type": "execute_result"
    }
   ],
   "source": [
    "model.fit(x_train, y_train, batch_size=16, verbose=1, epochs=10, validation_data=(x_test, y_test) ,shuffle=False)"
   ]
  },
  {
   "cell_type": "code",
   "execution_count": 54,
   "id": "7a0f9ed3",
   "metadata": {},
   "outputs": [],
   "source": [
    "model.save('braintumor.h5')"
   ]
  },
  {
   "cell_type": "code",
   "execution_count": 72,
   "id": "5e436f55",
   "metadata": {},
   "outputs": [
    {
     "name": "stdout",
     "output_type": "stream",
     "text": [
      "1/1 [==============================] - 0s 15ms/step\n",
      "[[1.]]\n"
     ]
    }
   ],
   "source": [
    "img= cv2.imread(r'D:\\abcdefghj\\Projects\\Covid_Detection\\Brain_Tumor\\pred\\pred39.jpg')\n",
    "img= Image.fromarray(img)\n",
    "# print(img)\n",
    "img=img.resize((64,64))\n",
    "img=np.array(img)\n",
    "input=np.expand_dims(img, axis=0)\n",
    "\n",
    "result= model.predict(input)\n",
    "print(result)"
   ]
  },
  {
   "cell_type": "code",
   "execution_count": 3,
   "id": "f4537ce1",
   "metadata": {},
   "outputs": [],
   "source": [
    "from tensorflow.keras.models import load_model\n",
    "model1=load_model('braintumor.h5')\n"
   ]
  },
  {
   "cell_type": "code",
   "execution_count": 8,
   "id": "14887eae",
   "metadata": {},
   "outputs": [
    {
     "name": "stdout",
     "output_type": "stream",
     "text": [
      "1/1 [==============================] - 0s 159ms/step\n",
      "[[1.]]\n",
      "tumor\n"
     ]
    }
   ],
   "source": [
    "img= cv2.imread(r'C:\\Users\\dnyan\\Downloads\\R.png')\n",
    "img= Image.fromarray(img)\n",
    "# print(img)\n",
    "img=img.resize((64,64))\n",
    "img=np.array(img)\n",
    "input=np.expand_dims(img, axis=0)\n",
    "\n",
    "result= model1.predict(input)\n",
    "print(result)\n",
    "\n",
    "if result==1:\n",
    "    print(\"tumor\")"
   ]
  },
  {
   "cell_type": "code",
   "execution_count": null,
   "id": "9bd565a8",
   "metadata": {},
   "outputs": [],
   "source": []
  }
 ],
 "metadata": {
  "kernelspec": {
   "display_name": "Python 3 (ipykernel)",
   "language": "python",
   "name": "python3"
  },
  "language_info": {
   "codemirror_mode": {
    "name": "ipython",
    "version": 3
   },
   "file_extension": ".py",
   "mimetype": "text/x-python",
   "name": "python",
   "nbconvert_exporter": "python",
   "pygments_lexer": "ipython3",
   "version": "3.9.13"
  }
 },
 "nbformat": 4,
 "nbformat_minor": 5
}
